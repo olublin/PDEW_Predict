{
 "cells": [
  {
   "cell_type": "code",
   "execution_count": 2,
   "id": "4b25c9b3-6211-4387-9cea-8ce13bb134c1",
   "metadata": {},
   "outputs": [],
   "source": [
    "import pandas as pd\n",
    "import os"
   ]
  },
  {
   "cell_type": "code",
   "execution_count": 3,
   "id": "8d06b963-43ef-4957-ac3b-092c0a79fd76",
   "metadata": {},
   "outputs": [
    {
     "data": {
      "text/plain": [
       "'C:\\\\Users\\\\olubl\\\\OneDrive\\\\14th grade\\\\PDEW_Predict'"
      ]
     },
     "execution_count": 3,
     "metadata": {},
     "output_type": "execute_result"
    }
   ],
   "source": [
    "os.getcwd()"
   ]
  },
  {
   "cell_type": "code",
   "execution_count": 6,
   "id": "6c513f50-0767-4c6b-afb1-46a30da56810",
   "metadata": {},
   "outputs": [],
   "source": [
    "#let's read in the P\n",
    "all_pdew = pd.read_csv('C:\\\\Users\\\\olubl\\\\OneDrive\\\\14th grade\\\\PDEW_Predict\\\\data\\\\pdew_3q_2024.csv')\n",
    "all_pdew = all_pdew[['Year','quarter','city1','city2','nsmiles','passengers','fare','carrier_lg']]"
   ]
  },
  {
   "cell_type": "code",
   "execution_count": 7,
   "id": "f66468e5-6f29-4c52-b14e-6604b3e113c4",
   "metadata": {},
   "outputs": [
    {
     "data": {
      "text/html": [
       "<div>\n",
       "<style scoped>\n",
       "    .dataframe tbody tr th:only-of-type {\n",
       "        vertical-align: middle;\n",
       "    }\n",
       "\n",
       "    .dataframe tbody tr th {\n",
       "        vertical-align: top;\n",
       "    }\n",
       "\n",
       "    .dataframe thead th {\n",
       "        text-align: right;\n",
       "    }\n",
       "</style>\n",
       "<table border=\"1\" class=\"dataframe\">\n",
       "  <thead>\n",
       "    <tr style=\"text-align: right;\">\n",
       "      <th></th>\n",
       "      <th>Year</th>\n",
       "      <th>quarter</th>\n",
       "      <th>city1</th>\n",
       "      <th>city2</th>\n",
       "      <th>nsmiles</th>\n",
       "      <th>passengers</th>\n",
       "      <th>fare</th>\n",
       "      <th>carrier_lg</th>\n",
       "    </tr>\n",
       "  </thead>\n",
       "  <tbody>\n",
       "    <tr>\n",
       "      <th>0</th>\n",
       "      <td>2024</td>\n",
       "      <td>3</td>\n",
       "      <td>Allentown/Bethlehem/Easton, PA</td>\n",
       "      <td>Dallas/Fort Worth, TX</td>\n",
       "      <td>1307</td>\n",
       "      <td>18</td>\n",
       "      <td>367.69</td>\n",
       "      <td>AA</td>\n",
       "    </tr>\n",
       "    <tr>\n",
       "      <th>1</th>\n",
       "      <td>2024</td>\n",
       "      <td>3</td>\n",
       "      <td>Allentown/Bethlehem/Easton, PA</td>\n",
       "      <td>Denver, CO</td>\n",
       "      <td>1539</td>\n",
       "      <td>89</td>\n",
       "      <td>138.60</td>\n",
       "      <td>G4</td>\n",
       "    </tr>\n",
       "    <tr>\n",
       "      <th>2</th>\n",
       "      <td>2024</td>\n",
       "      <td>3</td>\n",
       "      <td>Allentown/Bethlehem/Easton, PA</td>\n",
       "      <td>Atlanta, GA (Metropolitan Area)</td>\n",
       "      <td>692</td>\n",
       "      <td>107</td>\n",
       "      <td>319.69</td>\n",
       "      <td>DL</td>\n",
       "    </tr>\n",
       "    <tr>\n",
       "      <th>3</th>\n",
       "      <td>2024</td>\n",
       "      <td>3</td>\n",
       "      <td>Allentown/Bethlehem/Easton, PA</td>\n",
       "      <td>Austin, TX</td>\n",
       "      <td>1441</td>\n",
       "      <td>13</td>\n",
       "      <td>256.48</td>\n",
       "      <td>AA</td>\n",
       "    </tr>\n",
       "    <tr>\n",
       "      <th>4</th>\n",
       "      <td>2024</td>\n",
       "      <td>3</td>\n",
       "      <td>Allentown/Bethlehem/Easton, PA</td>\n",
       "      <td>Nashville, TN</td>\n",
       "      <td>685</td>\n",
       "      <td>46</td>\n",
       "      <td>130.88</td>\n",
       "      <td>G4</td>\n",
       "    </tr>\n",
       "  </tbody>\n",
       "</table>\n",
       "</div>"
      ],
      "text/plain": [
       "   Year  quarter                           city1  \\\n",
       "0  2024        3  Allentown/Bethlehem/Easton, PA   \n",
       "1  2024        3  Allentown/Bethlehem/Easton, PA   \n",
       "2  2024        3  Allentown/Bethlehem/Easton, PA   \n",
       "3  2024        3  Allentown/Bethlehem/Easton, PA   \n",
       "4  2024        3  Allentown/Bethlehem/Easton, PA   \n",
       "\n",
       "                             city2  nsmiles  passengers    fare carrier_lg  \n",
       "0            Dallas/Fort Worth, TX     1307          18  367.69         AA  \n",
       "1                       Denver, CO     1539          89  138.60         G4  \n",
       "2  Atlanta, GA (Metropolitan Area)      692         107  319.69         DL  \n",
       "3                       Austin, TX     1441          13  256.48         AA  \n",
       "4                    Nashville, TN      685          46  130.88         G4  "
      ]
     },
     "execution_count": 7,
     "metadata": {},
     "output_type": "execute_result"
    }
   ],
   "source": []
  },
  {
   "cell_type": "code",
   "execution_count": null,
   "id": "ec8303dc-2566-4093-a835-814b9701f558",
   "metadata": {},
   "outputs": [],
   "source": []
  }
 ],
 "metadata": {
  "kernelspec": {
   "display_name": "Python [conda env:base] *",
   "language": "python",
   "name": "conda-base-py"
  },
  "language_info": {
   "codemirror_mode": {
    "name": "ipython",
    "version": 3
   },
   "file_extension": ".py",
   "mimetype": "text/x-python",
   "name": "python",
   "nbconvert_exporter": "python",
   "pygments_lexer": "ipython3",
   "version": "3.12.7"
  }
 },
 "nbformat": 4,
 "nbformat_minor": 5
}
