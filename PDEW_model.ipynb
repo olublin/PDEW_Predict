{
 "cells": [
  {
   "cell_type": "code",
   "execution_count": 25,
   "id": "8f26a2b7-28e3-454b-b401-f4c1d4210295",
   "metadata": {},
   "outputs": [
    {
     "name": "stdout",
     "output_type": "stream",
     "text": [
      "Collecting pygris\n",
      "  Downloading pygris-0.2.0-py3-none-any.whl.metadata (2.3 kB)\n",
      "Requirement already satisfied: geopandas>=0.9 in c:\\users\\olubl\\anaconda3\\envs\\spatialdata\\lib\\site-packages (from pygris) (1.0.1)\n",
      "Requirement already satisfied: requests in c:\\users\\olubl\\anaconda3\\envs\\spatialdata\\lib\\site-packages (from pygris) (2.32.3)\n",
      "Requirement already satisfied: appdirs in c:\\users\\olubl\\anaconda3\\envs\\spatialdata\\lib\\site-packages (from pygris) (1.4.4)\n",
      "Requirement already satisfied: numpy>=1.22 in c:\\users\\olubl\\anaconda3\\envs\\spatialdata\\lib\\site-packages (from geopandas>=0.9->pygris) (1.26.4)\n",
      "Requirement already satisfied: pyogrio>=0.7.2 in c:\\users\\olubl\\anaconda3\\envs\\spatialdata\\lib\\site-packages (from geopandas>=0.9->pygris) (0.10.0)\n",
      "Requirement already satisfied: packaging in c:\\users\\olubl\\appdata\\roaming\\python\\python312\\site-packages (from geopandas>=0.9->pygris) (25.0)\n",
      "Requirement already satisfied: pandas>=1.4.0 in c:\\users\\olubl\\anaconda3\\envs\\spatialdata\\lib\\site-packages (from geopandas>=0.9->pygris) (2.2.2)\n",
      "Requirement already satisfied: pyproj>=3.3.0 in c:\\users\\olubl\\anaconda3\\envs\\spatialdata\\lib\\site-packages (from geopandas>=0.9->pygris) (3.6.1)\n",
      "Requirement already satisfied: shapely>=2.0.0 in c:\\users\\olubl\\anaconda3\\envs\\spatialdata\\lib\\site-packages (from geopandas>=0.9->pygris) (2.0.5)\n",
      "Requirement already satisfied: charset-normalizer<4,>=2 in c:\\users\\olubl\\anaconda3\\envs\\spatialdata\\lib\\site-packages (from requests->pygris) (3.3.2)\n",
      "Requirement already satisfied: idna<4,>=2.5 in c:\\users\\olubl\\anaconda3\\envs\\spatialdata\\lib\\site-packages (from requests->pygris) (3.7)\n",
      "Requirement already satisfied: urllib3<3,>=1.21.1 in c:\\users\\olubl\\anaconda3\\envs\\spatialdata\\lib\\site-packages (from requests->pygris) (2.2.3)\n",
      "Requirement already satisfied: certifi>=2017.4.17 in c:\\users\\olubl\\anaconda3\\envs\\spatialdata\\lib\\site-packages (from requests->pygris) (2025.8.3)\n",
      "Requirement already satisfied: python-dateutil>=2.8.2 in c:\\users\\olubl\\appdata\\roaming\\python\\python312\\site-packages (from pandas>=1.4.0->geopandas>=0.9->pygris) (2.9.0.post0)\n",
      "Requirement already satisfied: pytz>=2020.1 in c:\\users\\olubl\\anaconda3\\envs\\spatialdata\\lib\\site-packages (from pandas>=1.4.0->geopandas>=0.9->pygris) (2024.1)\n",
      "Requirement already satisfied: tzdata>=2022.7 in c:\\users\\olubl\\anaconda3\\envs\\spatialdata\\lib\\site-packages (from pandas>=1.4.0->geopandas>=0.9->pygris) (2023.3)\n",
      "Requirement already satisfied: six>=1.5 in c:\\users\\olubl\\appdata\\roaming\\python\\python312\\site-packages (from python-dateutil>=2.8.2->pandas>=1.4.0->geopandas>=0.9->pygris) (1.17.0)\n",
      "Downloading pygris-0.2.0-py3-none-any.whl (57 kB)\n",
      "Installing collected packages: pygris\n",
      "Successfully installed pygris-0.2.0\n",
      "Note: you may need to restart the kernel to use updated packages.\n"
     ]
    }
   ],
   "source": [
    "pip install pygris"
   ]
  },
  {
   "cell_type": "code",
   "execution_count": 47,
   "id": "10255383-3625-4a58-939d-b00a0510f1f9",
   "metadata": {},
   "outputs": [],
   "source": [
    "import pandas as pd\n",
    "import geopandas as gpd\n",
    "import os\n",
    "import pygris\n",
    "import matplotlib.pyplot as plt"
   ]
  },
  {
   "cell_type": "code",
   "execution_count": 17,
   "id": "6ab9e066-1b6c-4d6c-92d0-a48ea1e3f261",
   "metadata": {},
   "outputs": [
    {
     "data": {
      "text/plain": [
       "'C:\\\\Users\\\\olubl\\\\OneDrive\\\\14th grade\\\\PDEW_Predict'"
      ]
     },
     "execution_count": 17,
     "metadata": {},
     "output_type": "execute_result"
    }
   ],
   "source": [
    "os.getcwd()"
   ]
  },
  {
   "cell_type": "code",
   "execution_count": 19,
   "id": "df1b6320-c9a4-4421-95e3-faf290e12547",
   "metadata": {},
   "outputs": [],
   "source": [
    "#pull our pdew data and the geospatial dataframe pulled from the PDEW_eda script with city locations\n",
    "all_pdew = pd.read_csv('C:\\\\Users\\\\olubl\\\\OneDrive\\\\14th grade\\\\PDEW_Predict\\\\all_pdew_renamed.csv')\n",
    "all_pdew = all_pdew[['city1','city2','nsmiles','passengers','fare','carrier_lg']]\n",
    "all_cities_geo = gpd.read_file('C:\\\\Users\\\\olubl\\\\OneDrive\\\\14th grade\\\\PDEW_Predict\\\\city_coords.geojson')"
   ]
  },
  {
   "cell_type": "code",
   "execution_count": 3,
   "id": "483ca7e3-d93c-4daa-9328-1fa0006a8ab5",
   "metadata": {},
   "outputs": [
    {
     "data": {
      "text/html": [
       "<div>\n",
       "<style scoped>\n",
       "    .dataframe tbody tr th:only-of-type {\n",
       "        vertical-align: middle;\n",
       "    }\n",
       "\n",
       "    .dataframe tbody tr th {\n",
       "        vertical-align: top;\n",
       "    }\n",
       "\n",
       "    .dataframe thead th {\n",
       "        text-align: right;\n",
       "    }\n",
       "</style>\n",
       "<table border=\"1\" class=\"dataframe\">\n",
       "  <thead>\n",
       "    <tr style=\"text-align: right;\">\n",
       "      <th></th>\n",
       "      <th>city1</th>\n",
       "      <th>city2</th>\n",
       "      <th>nsmiles</th>\n",
       "      <th>passengers</th>\n",
       "      <th>fare</th>\n",
       "      <th>carrier_lg</th>\n",
       "    </tr>\n",
       "  </thead>\n",
       "  <tbody>\n",
       "    <tr>\n",
       "      <th>0</th>\n",
       "      <td>Allentown, PA</td>\n",
       "      <td>Dallas, TX</td>\n",
       "      <td>1307</td>\n",
       "      <td>18</td>\n",
       "      <td>367.69</td>\n",
       "      <td>AA</td>\n",
       "    </tr>\n",
       "    <tr>\n",
       "      <th>1</th>\n",
       "      <td>Allentown, PA</td>\n",
       "      <td>Denver, CO</td>\n",
       "      <td>1539</td>\n",
       "      <td>89</td>\n",
       "      <td>138.60</td>\n",
       "      <td>G4</td>\n",
       "    </tr>\n",
       "    <tr>\n",
       "      <th>2</th>\n",
       "      <td>Allentown, PA</td>\n",
       "      <td>Atlanta, GA</td>\n",
       "      <td>692</td>\n",
       "      <td>107</td>\n",
       "      <td>319.69</td>\n",
       "      <td>DL</td>\n",
       "    </tr>\n",
       "    <tr>\n",
       "      <th>3</th>\n",
       "      <td>Allentown, PA</td>\n",
       "      <td>Austin, TX</td>\n",
       "      <td>1441</td>\n",
       "      <td>13</td>\n",
       "      <td>256.48</td>\n",
       "      <td>AA</td>\n",
       "    </tr>\n",
       "    <tr>\n",
       "      <th>4</th>\n",
       "      <td>Allentown, PA</td>\n",
       "      <td>Nashville, TN</td>\n",
       "      <td>685</td>\n",
       "      <td>46</td>\n",
       "      <td>130.88</td>\n",
       "      <td>G4</td>\n",
       "    </tr>\n",
       "  </tbody>\n",
       "</table>\n",
       "</div>"
      ],
      "text/plain": [
       "           city1          city2  nsmiles  passengers    fare carrier_lg\n",
       "0  Allentown, PA     Dallas, TX     1307          18  367.69         AA\n",
       "1  Allentown, PA     Denver, CO     1539          89  138.60         G4\n",
       "2  Allentown, PA    Atlanta, GA      692         107  319.69         DL\n",
       "3  Allentown, PA     Austin, TX     1441          13  256.48         AA\n",
       "4  Allentown, PA  Nashville, TN      685          46  130.88         G4"
      ]
     },
     "execution_count": 3,
     "metadata": {},
     "output_type": "execute_result"
    }
   ],
   "source": [
    "all_pdew.head() #our pdew counts by city pairs."
   ]
  },
  {
   "cell_type": "code",
   "execution_count": 4,
   "id": "49e9a1e9-36bf-4581-9a13-813ca0a30fc2",
   "metadata": {},
   "outputs": [
    {
     "data": {
      "text/html": [
       "<div>\n",
       "<style scoped>\n",
       "    .dataframe tbody tr th:only-of-type {\n",
       "        vertical-align: middle;\n",
       "    }\n",
       "\n",
       "    .dataframe tbody tr th {\n",
       "        vertical-align: top;\n",
       "    }\n",
       "\n",
       "    .dataframe thead th {\n",
       "        text-align: right;\n",
       "    }\n",
       "</style>\n",
       "<table border=\"1\" class=\"dataframe\">\n",
       "  <thead>\n",
       "    <tr style=\"text-align: right;\">\n",
       "      <th></th>\n",
       "      <th>cityname</th>\n",
       "      <th>geometry</th>\n",
       "    </tr>\n",
       "  </thead>\n",
       "  <tbody>\n",
       "    <tr>\n",
       "      <th>0</th>\n",
       "      <td>Allentown, PA</td>\n",
       "      <td>POINT (-75.471 40.602)</td>\n",
       "    </tr>\n",
       "    <tr>\n",
       "      <th>1</th>\n",
       "      <td>Dallas, TX</td>\n",
       "      <td>POINT (-96.797 32.776)</td>\n",
       "    </tr>\n",
       "    <tr>\n",
       "      <th>2</th>\n",
       "      <td>Denver, CO</td>\n",
       "      <td>POINT (-104.98 39.739)</td>\n",
       "    </tr>\n",
       "    <tr>\n",
       "      <th>3</th>\n",
       "      <td>Atlanta, GA</td>\n",
       "      <td>POINT (-84.39 33.754)</td>\n",
       "    </tr>\n",
       "    <tr>\n",
       "      <th>4</th>\n",
       "      <td>Austin, TX</td>\n",
       "      <td>POINT (-97.744 30.271)</td>\n",
       "    </tr>\n",
       "  </tbody>\n",
       "</table>\n",
       "</div>"
      ],
      "text/plain": [
       "        cityname                geometry\n",
       "0  Allentown, PA  POINT (-75.471 40.602)\n",
       "1     Dallas, TX  POINT (-96.797 32.776)\n",
       "2     Denver, CO  POINT (-104.98 39.739)\n",
       "3    Atlanta, GA   POINT (-84.39 33.754)\n",
       "4     Austin, TX  POINT (-97.744 30.271)"
      ]
     },
     "execution_count": 4,
     "metadata": {},
     "output_type": "execute_result"
    }
   ],
   "source": [
    "all_cities_geo.head() #the rough geometry of each citymarket"
   ]
  },
  {
   "cell_type": "code",
   "execution_count": 5,
   "id": "9faad37e-5f34-4d67-91e0-0dfc1694e1e9",
   "metadata": {},
   "outputs": [
    {
     "data": {
      "text/html": [
       "<div>\n",
       "<style scoped>\n",
       "    .dataframe tbody tr th:only-of-type {\n",
       "        vertical-align: middle;\n",
       "    }\n",
       "\n",
       "    .dataframe tbody tr th {\n",
       "        vertical-align: top;\n",
       "    }\n",
       "\n",
       "    .dataframe thead th {\n",
       "        text-align: right;\n",
       "    }\n",
       "</style>\n",
       "<table border=\"1\" class=\"dataframe\">\n",
       "  <thead>\n",
       "    <tr style=\"text-align: right;\">\n",
       "      <th></th>\n",
       "      <th>nsmiles</th>\n",
       "      <th>passengers</th>\n",
       "      <th>fare</th>\n",
       "    </tr>\n",
       "  </thead>\n",
       "  <tbody>\n",
       "    <tr>\n",
       "      <th>count</th>\n",
       "      <td>6611.000000</td>\n",
       "      <td>6611.000000</td>\n",
       "      <td>6611.000000</td>\n",
       "    </tr>\n",
       "    <tr>\n",
       "      <th>mean</th>\n",
       "      <td>1091.091514</td>\n",
       "      <td>203.439873</td>\n",
       "      <td>282.530593</td>\n",
       "    </tr>\n",
       "    <tr>\n",
       "      <th>std</th>\n",
       "      <td>584.066684</td>\n",
       "      <td>688.511938</td>\n",
       "      <td>79.852923</td>\n",
       "    </tr>\n",
       "    <tr>\n",
       "      <th>min</th>\n",
       "      <td>70.000000</td>\n",
       "      <td>10.000000</td>\n",
       "      <td>56.470000</td>\n",
       "    </tr>\n",
       "    <tr>\n",
       "      <th>25%</th>\n",
       "      <td>637.000000</td>\n",
       "      <td>18.000000</td>\n",
       "      <td>239.730000</td>\n",
       "    </tr>\n",
       "    <tr>\n",
       "      <th>50%</th>\n",
       "      <td>964.000000</td>\n",
       "      <td>36.000000</td>\n",
       "      <td>281.650000</td>\n",
       "    </tr>\n",
       "    <tr>\n",
       "      <th>75%</th>\n",
       "      <td>1471.000000</td>\n",
       "      <td>112.000000</td>\n",
       "      <td>327.310000</td>\n",
       "    </tr>\n",
       "    <tr>\n",
       "      <th>max</th>\n",
       "      <td>2783.000000</td>\n",
       "      <td>16339.000000</td>\n",
       "      <td>705.010000</td>\n",
       "    </tr>\n",
       "  </tbody>\n",
       "</table>\n",
       "</div>"
      ],
      "text/plain": [
       "           nsmiles    passengers         fare\n",
       "count  6611.000000   6611.000000  6611.000000\n",
       "mean   1091.091514    203.439873   282.530593\n",
       "std     584.066684    688.511938    79.852923\n",
       "min      70.000000     10.000000    56.470000\n",
       "25%     637.000000     18.000000   239.730000\n",
       "50%     964.000000     36.000000   281.650000\n",
       "75%    1471.000000    112.000000   327.310000\n",
       "max    2783.000000  16339.000000   705.010000"
      ]
     },
     "execution_count": 5,
     "metadata": {},
     "output_type": "execute_result"
    }
   ],
   "source": [
    "#descriptive stats for each numeric column\n",
    "all_pdew.describe()"
   ]
  },
  {
   "cell_type": "code",
   "execution_count": 6,
   "id": "9a231bc1-7969-46d2-a498-22ee4a73bf67",
   "metadata": {},
   "outputs": [
    {
     "data": {
      "text/plain": [
       "<Geographic 2D CRS: EPSG:4326>\n",
       "Name: WGS 84\n",
       "Axis Info [ellipsoidal]:\n",
       "- Lat[north]: Geodetic latitude (degree)\n",
       "- Lon[east]: Geodetic longitude (degree)\n",
       "Area of Use:\n",
       "- name: World.\n",
       "- bounds: (-180.0, -90.0, 180.0, 90.0)\n",
       "Datum: World Geodetic System 1984 ensemble\n",
       "- Ellipsoid: WGS 84\n",
       "- Prime Meridian: Greenwich"
      ]
     },
     "execution_count": 6,
     "metadata": {},
     "output_type": "execute_result"
    }
   ],
   "source": [
    "all_cities_geo['geometry'].crs"
   ]
  },
  {
   "cell_type": "code",
   "execution_count": 57,
   "id": "09bc6b7e-d2ad-4d86-b18d-3928d7eaa423",
   "metadata": {},
   "outputs": [
    {
     "name": "stdout",
     "output_type": "stream",
     "text": [
      "HTTP download failed, trying FTP as fallback...\n",
      "Downloading tl_2020_us_csa.zip from Census FTP...\n"
     ]
    }
   ],
   "source": [
    "#as one of the features of our model will be catchment population for each citymarket, we need to pull this data.\n",
    "#we can use the package pygris to get population data for each csa\n",
    "csa = pygris.combined_statistical_areas(year = '2020')   #this gets the geometry for each csa\n",
    "csa = csa.to_crs('EPSG:4326')"
   ]
  },
  {
   "cell_type": "code",
   "execution_count": 58,
   "id": "fbbcb558-719a-41e2-84f3-7269e32d384c",
   "metadata": {},
   "outputs": [],
   "source": [
    "#now we can create a column for all_cities_geo that indicates the csa each citymarket is contained in\n",
    "csa_overlay = gpd.overlay(all_cities_geo, csa, how = 'intersection')"
   ]
  },
  {
   "cell_type": "code",
   "execution_count": 66,
   "id": "c21ac1f2-f392-40b8-9b1b-8605d4aeea8d",
   "metadata": {},
   "outputs": [
    {
     "name": "stdout",
     "output_type": "stream",
     "text": [
      "<class 'geopandas.geodataframe.GeoDataFrame'>\n",
      "RangeIndex: 163 entries, 0 to 162\n",
      "Data columns (total 12 columns):\n",
      " #   Column    Non-Null Count  Dtype   \n",
      "---  ------    --------------  -----   \n",
      " 0   cityname  163 non-null    object  \n",
      " 1   CSAFP     163 non-null    object  \n",
      " 2   GEOID     163 non-null    object  \n",
      " 3   NAME      163 non-null    object  \n",
      " 4   NAMELSAD  163 non-null    object  \n",
      " 5   LSAD      163 non-null    object  \n",
      " 6   MTFCC     163 non-null    object  \n",
      " 7   ALAND     163 non-null    int64   \n",
      " 8   AWATER    163 non-null    int64   \n",
      " 9   INTPTLAT  163 non-null    object  \n",
      " 10  INTPTLON  163 non-null    object  \n",
      " 11  geometry  163 non-null    geometry\n",
      "dtypes: geometry(1), int64(2), object(9)\n",
      "memory usage: 15.4+ KB\n"
     ]
    }
   ],
   "source": [
    "csa_overlay.info()"
   ]
  },
  {
   "cell_type": "code",
   "execution_count": 68,
   "id": "96978d73-9736-4613-bbf2-145af90761ef",
   "metadata": {},
   "outputs": [
    {
     "data": {
      "text/plain": [
       "(23.0, 50.0)"
      ]
     },
     "execution_count": 68,
     "metadata": {},
     "output_type": "execute_result"
    },
    {
     "data": {
      "image/png": "[encoded data removed]",
      "text/plain": [
       "<Figure size 1000x1300 with 1 Axes>"
      ]
     },
     "metadata": {},
     "output_type": "display_data"
    }
   ],
   "source": [
    "#only 163 of the 274 citymarkets are contained in some csa. let's plot these to get an idea where they are\n",
    "fig, ax = plt.subplots(figsize = (10,13))\n",
    "\n",
    "all_cities_geo.plot(ax = ax, color = 'black')\n",
    "csa.plot(ax = plt.gca())\n",
    "\n",
    "ax.set_ylim(23,50)"
   ]
  },
  {
   "cell_type": "code",
   "execution_count": 70,
   "id": "5fe7c38f-586f-4270-97d1-bc496b98088c",
   "metadata": {},
   "outputs": [
    {
     "name": "stdout",
     "output_type": "stream",
     "text": [
      "HTTP download failed, trying FTP as fallback...\n",
      "Downloading tl_2024_us_cbsa.zip from Census FTP...\n"
     ]
    }
   ],
   "source": [
    "#while we would prefer to use csas to better capture travel patterns, cbsas (of which there are 935, compared with 184 csas) will cover more of our data.\n",
    "cbsa = pygris.core_based_statistical_areas(year = '2024').to_crs('EPSG:4326')\n",
    "cbsa_overlay = gpd.overlay(all_cities_geo, cbsa, how = 'intersection')\n"
   ]
  },
  {
   "cell_type": "code",
   "execution_count": 73,
   "id": "1fe61cc2-075f-4a6b-9cce-af4353fa49c4",
   "metadata": {},
   "outputs": [
    {
     "name": "stdout",
     "output_type": "stream",
     "text": [
      "<class 'geopandas.geodataframe.GeoDataFrame'>\n",
      "RangeIndex: 269 entries, 0 to 268\n",
      "Data columns (total 15 columns):\n",
      " #   Column    Non-Null Count  Dtype   \n",
      "---  ------    --------------  -----   \n",
      " 0   cityname  269 non-null    object  \n",
      " 1   CSAFP     172 non-null    object  \n",
      " 2   CBSAFP    269 non-null    object  \n",
      " 3   GEOID     269 non-null    object  \n",
      " 4   GEOIDFQ   269 non-null    object  \n",
      " 5   NAME      269 non-null    object  \n",
      " 6   NAMELSAD  269 non-null    object  \n",
      " 7   LSAD      269 non-null    object  \n",
      " 8   MEMI      269 non-null    object  \n",
      " 9   MTFCC     269 non-null    object  \n",
      " 10  ALAND     269 non-null    int64   \n",
      " 11  AWATER    269 non-null    int64   \n",
      " 12  INTPTLAT  269 non-null    object  \n",
      " 13  INTPTLON  269 non-null    object  \n",
      " 14  geometry  269 non-null    geometry\n",
      "dtypes: geometry(1), int64(2), object(12)\n",
      "memory usage: 31.7+ KB\n"
     ]
    }
   ],
   "source": [
    "cbsa_overlay.info()"
   ]
  },
  {
   "cell_type": "code",
   "execution_count": 80,
   "id": "656c7180-54e2-49ef-9177-94140264f7c5",
   "metadata": {},
   "outputs": [
    {
     "data": {
      "text/plain": [
       "array(['Gunnison, CO', 'Rhinelander, WI', 'Presque Isle, ME',\n",
       "       'Ashland, WV', 'International Falls, MN'], dtype=object)"
      ]
     },
     "execution_count": 80,
     "metadata": {},
     "output_type": "execute_result"
    }
   ],
   "source": [
    "#this time we are only missing 5 citymarkets. let's see what those are:\n",
    "cbsa_cities = pd.Series(cbsa_overlay['cityname'])\n",
    "pdew_cities = pd.Series(all_cities_geo['cityname'])\n",
    "pdew_cities[~pdew_cities.isin(cbsa_cities)].values"
   ]
  },
  {
   "cell_type": "code",
   "execution_count": 81,
   "id": "dc6b40f1-e3b1-45da-9917-810a74786278",
   "metadata": {},
   "outputs": [
    {
     "data": {
      "text/html": [
       "<div>\n",
       "<style scoped>\n",
       "    .dataframe tbody tr th:only-of-type {\n",
       "        vertical-align: middle;\n",
       "    }\n",
       "\n",
       "    .dataframe tbody tr th {\n",
       "        vertical-align: top;\n",
       "    }\n",
       "\n",
       "    .dataframe thead th {\n",
       "        text-align: right;\n",
       "    }\n",
       "</style>\n",
       "<table border=\"1\" class=\"dataframe\">\n",
       "  <thead>\n",
       "    <tr style=\"text-align: right;\">\n",
       "      <th></th>\n",
       "      <th>cityname</th>\n",
       "      <th>CSAFP</th>\n",
       "      <th>CBSAFP</th>\n",
       "      <th>GEOID</th>\n",
       "      <th>GEOIDFQ</th>\n",
       "      <th>NAME</th>\n",
       "      <th>NAMELSAD</th>\n",
       "      <th>LSAD</th>\n",
       "      <th>MEMI</th>\n",
       "      <th>MTFCC</th>\n",
       "      <th>ALAND</th>\n",
       "      <th>AWATER</th>\n",
       "      <th>INTPTLAT</th>\n",
       "      <th>INTPTLON</th>\n",
       "      <th>geometry</th>\n",
       "    </tr>\n",
       "  </thead>\n",
       "  <tbody>\n",
       "    <tr>\n",
       "      <th>0</th>\n",
       "      <td>Allentown, PA</td>\n",
       "      <td>106</td>\n",
       "      <td>10900</td>\n",
       "      <td>10900</td>\n",
       "      <td>310M700US10900</td>\n",
       "      <td>Allentown-Bethlehem-Easton, PA-NJ</td>\n",
       "      <td>Allentown-Bethlehem-Easton, PA-NJ Metro Area</td>\n",
       "      <td>M1</td>\n",
       "      <td>1</td>\n",
       "      <td>G3110</td>\n",
       "      <td>3763301127</td>\n",
       "      <td>58254848</td>\n",
       "      <td>+40.7893392</td>\n",
       "      <td>-075.3981580</td>\n",
       "      <td>POINT (-75.471 40.602)</td>\n",
       "    </tr>\n",
       "    <tr>\n",
       "      <th>1</th>\n",
       "      <td>Dallas, TX</td>\n",
       "      <td>206</td>\n",
       "      <td>19100</td>\n",
       "      <td>19100</td>\n",
       "      <td>310M700US19100</td>\n",
       "      <td>Dallas-Fort Worth-Arlington, TX</td>\n",
       "      <td>Dallas-Fort Worth-Arlington, TX Metro Area</td>\n",
       "      <td>M1</td>\n",
       "      <td>1</td>\n",
       "      <td>G3110</td>\n",
       "      <td>22470698863</td>\n",
       "      <td>858023490</td>\n",
       "      <td>+32.8491708</td>\n",
       "      <td>-096.9704894</td>\n",
       "      <td>POINT (-96.797 32.776)</td>\n",
       "    </tr>\n",
       "    <tr>\n",
       "      <th>2</th>\n",
       "      <td>Denver, CO</td>\n",
       "      <td>216</td>\n",
       "      <td>19740</td>\n",
       "      <td>19740</td>\n",
       "      <td>310M700US19740</td>\n",
       "      <td>Denver-Aurora-Centennial, CO</td>\n",
       "      <td>Denver-Aurora-Centennial, CO Metro Area</td>\n",
       "      <td>M1</td>\n",
       "      <td>1</td>\n",
       "      <td>G3110</td>\n",
       "      <td>21612648987</td>\n",
       "      <td>149162547</td>\n",
       "      <td>+39.4347890</td>\n",
       "      <td>-104.9010728</td>\n",
       "      <td>POINT (-104.98 39.739)</td>\n",
       "    </tr>\n",
       "    <tr>\n",
       "      <th>3</th>\n",
       "      <td>Atlanta, GA</td>\n",
       "      <td>122</td>\n",
       "      <td>12060</td>\n",
       "      <td>12060</td>\n",
       "      <td>310M700US12060</td>\n",
       "      <td>Atlanta-Sandy Springs-Roswell, GA</td>\n",
       "      <td>Atlanta-Sandy Springs-Roswell, GA Metro Area</td>\n",
       "      <td>M1</td>\n",
       "      <td>1</td>\n",
       "      <td>G3110</td>\n",
       "      <td>22754281350</td>\n",
       "      <td>384413339</td>\n",
       "      <td>+33.7324018</td>\n",
       "      <td>-084.3928478</td>\n",
       "      <td>POINT (-84.39 33.754)</td>\n",
       "    </tr>\n",
       "    <tr>\n",
       "      <th>4</th>\n",
       "      <td>Austin, TX</td>\n",
       "      <td>None</td>\n",
       "      <td>12420</td>\n",
       "      <td>12420</td>\n",
       "      <td>310M700US12420</td>\n",
       "      <td>Austin-Round Rock-San Marcos, TX</td>\n",
       "      <td>Austin-Round Rock-San Marcos, TX Metro Area</td>\n",
       "      <td>M1</td>\n",
       "      <td>1</td>\n",
       "      <td>G3110</td>\n",
       "      <td>10929182221</td>\n",
       "      <td>150086251</td>\n",
       "      <td>+30.2497437</td>\n",
       "      <td>-097.6498417</td>\n",
       "      <td>POINT (-97.744 30.271)</td>\n",
       "    </tr>\n",
       "  </tbody>\n",
       "</table>\n",
       "</div>"
      ],
      "text/plain": [
       "        cityname CSAFP CBSAFP  GEOID         GEOIDFQ  \\\n",
       "0  Allentown, PA   106  10900  10900  310M700US10900   \n",
       "1     Dallas, TX   206  19100  19100  310M700US19100   \n",
       "2     Denver, CO   216  19740  19740  310M700US19740   \n",
       "3    Atlanta, GA   122  12060  12060  310M700US12060   \n",
       "4     Austin, TX  None  12420  12420  310M700US12420   \n",
       "\n",
       "                                NAME  \\\n",
       "0  Allentown-Bethlehem-Easton, PA-NJ   \n",
       "1    Dallas-Fort Worth-Arlington, TX   \n",
       "2       Denver-Aurora-Centennial, CO   \n",
       "3  Atlanta-Sandy Springs-Roswell, GA   \n",
       "4   Austin-Round Rock-San Marcos, TX   \n",
       "\n",
       "                                       NAMELSAD LSAD MEMI  MTFCC        ALAND  \\\n",
       "0  Allentown-Bethlehem-Easton, PA-NJ Metro Area   M1    1  G3110   3763301127   \n",
       "1    Dallas-Fort Worth-Arlington, TX Metro Area   M1    1  G3110  22470698863   \n",
       "2       Denver-Aurora-Centennial, CO Metro Area   M1    1  G3110  21612648987   \n",
       "3  Atlanta-Sandy Springs-Roswell, GA Metro Area   M1    1  G3110  22754281350   \n",
       "4   Austin-Round Rock-San Marcos, TX Metro Area   M1    1  G3110  10929182221   \n",
       "\n",
       "      AWATER     INTPTLAT      INTPTLON                geometry  \n",
       "0   58254848  +40.7893392  -075.3981580  POINT (-75.471 40.602)  \n",
       "1  858023490  +32.8491708  -096.9704894  POINT (-96.797 32.776)  \n",
       "2  149162547  +39.4347890  -104.9010728  POINT (-104.98 39.739)  \n",
       "3  384413339  +33.7324018  -084.3928478   POINT (-84.39 33.754)  \n",
       "4  150086251  +30.2497437  -097.6498417  POINT (-97.744 30.271)  "
      ]
     },
     "execution_count": 81,
     "metadata": {},
     "output_type": "execute_result"
    }
   ],
   "source": [
    "#as expected, these are all tiny towns, so we opt to ignore them in the model\n",
    "#let's get a look at the overlayed dataframe\n",
    "cbsa_overlay.head()"
   ]
  },
  {
   "cell_type": "code",
   "execution_count": null,
   "id": "8e46d28c-c9a5-402e-bb22-1c2868af3d1a",
   "metadata": {},
   "outputs": [],
   "source": [
    "#fetch population for each cbsa"
   ]
  },
  {
   "cell_type": "code",
   "execution_count": 15,
   "id": "4fbb0d0a-df41-4a52-b607-2a9862a7fb58",
   "metadata": {},
   "outputs": [],
   "source": [
    "geo_map = all_cities_geo.set_index('cityname')['geometry'].to_dict() #to do the mapping we need to make \"cityname\" be the indexing value."
   ]
  },
  {
   "cell_type": "code",
   "execution_count": null,
   "id": "5d00112c-39f7-49cf-8b4e-67c716569bc2",
   "metadata": {},
   "outputs": [],
   "source": [
    "all_pdew['city1_geo'] = all_pdew['city1'].map(geo_map)\n",
    "all_pdew['city2_geo'] = all_pdew['city2'].map(geo_map)"
   ]
  },
  {
   "cell_type": "code",
   "execution_count": null,
   "id": "f2ba20b9-f31b-42ba-86aa-8008744e77a3",
   "metadata": {},
   "outputs": [],
   "source": [
    "#feature engineering with population gravity (log(city1 * city2))"
   ]
  },
  {
   "cell_type": "code",
   "execution_count": null,
   "id": "bf6f44e4-473f-4cfb-a6d8-2957ba10fe99",
   "metadata": {},
   "outputs": [],
   "source": [
    "#baseline regression - gravity based"
   ]
  },
  {
   "cell_type": "code",
   "execution_count": null,
   "id": "be999e7c-4165-4a14-bcec-718dbbf9c744",
   "metadata": {},
   "outputs": [],
   "source": []
  }
 ],
 "metadata": {
  "kernelspec": {
   "display_name": "Python [conda env:spatialdata]",
   "language": "python",
   "name": "conda-env-spatialdata-py"
  },
  "language_info": {
   "codemirror_mode": {
    "name": "ipython",
    "version": 3
   },
   "file_extension": ".py",
   "mimetype": "text/x-python",
   "name": "python",
   "nbconvert_exporter": "python",
   "pygments_lexer": "ipython3",
   "version": "3.12.7"
  }
 },
 "nbformat": 4,
 "nbformat_minor": 5
}
